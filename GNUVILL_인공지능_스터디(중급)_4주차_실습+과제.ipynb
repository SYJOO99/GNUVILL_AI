{
  "nbformat": 4,
  "nbformat_minor": 0,
  "metadata": {
    "colab": {
      "name": "GNUVILL 인공지능 스터디(중급) 4주차 실습+과제",
      "provenance": [],
      "collapsed_sections": [],
      "include_colab_link": true
    },
    "kernelspec": {
      "name": "python3",
      "display_name": "Python 3"
    },
    "language_info": {
      "name": "python"
    }
  },
  "cells": [
    {
      "cell_type": "markdown",
      "metadata": {
        "id": "view-in-github",
        "colab_type": "text"
      },
      "source": [
        "<a href=\"https://colab.research.google.com/github/SYJOO99/GNUVILL_AI/blob/main/GNUVILL_%EC%9D%B8%EA%B3%B5%EC%A7%80%EB%8A%A5_%EC%8A%A4%ED%84%B0%EB%94%94(%EC%A4%91%EA%B8%89)_4%EC%A3%BC%EC%B0%A8_%EC%8B%A4%EC%8A%B5%2B%EA%B3%BC%EC%A0%9C.ipynb\" target=\"_parent\"><img src=\"https://colab.research.google.com/assets/colab-badge.svg\" alt=\"Open In Colab\"/></a>"
      ]
    },
    {
      "cell_type": "markdown",
      "metadata": {
        "id": "HH2-iYH4kI-w"
      },
      "source": [
        "# GNUVILL 인공지능 스터디(중급) 4주차 실습, 과제\n",
        "\n",
        "선형회귀 복습 + 경사하강법 실습\n",
        ": 당뇨병 환자의 데이터를 토대로 선형 회귀를 진행해보고 경사 하강법도 적용해봅시다!"
      ]
    },
    {
      "cell_type": "markdown",
      "metadata": {
        "id": "71ZJtC8KkgWW"
      },
      "source": [
        "\n",
        "\n",
        "---\n",
        "\n",
        "##1. 라이브러리\n",
        "\n",
        "*  **matplotlib**: 시각화 관련 함수들을 모아놓은 모듈(그래프를 그려준다!)\n",
        "\n",
        "  자세한 정보는 https://matplotlib.org/ 참고"
      ]
    },
    {
      "cell_type": "code",
      "metadata": {
        "id": "b4AEJn9Tkv5g"
      },
      "source": [
        "import matplotlib.pyplot as plt"
      ],
      "execution_count": 1,
      "outputs": []
    },
    {
      "cell_type": "markdown",
      "metadata": {
        "id": "6jZH5vPHkrxZ"
      },
      "source": [
        "##2. 데이터셋 준비"
      ]
    },
    {
      "cell_type": "markdown",
      "metadata": {
        "id": "dh97bswOlF25"
      },
      "source": [
        "\n",
        "\n",
        "*   **sklearn.datasets**: 대표적인 sample dataset들을 제공하고 쉽게 다운로드 받을 수 있음.\n",
        "\n",
        "  ex) 아이리스, 보스턴 집값 데이터, 당뇨병 환자 데이터 등\n",
        "  \n",
        "  https://teddylee777.github.io/scikit-learn/Sklearn-dataset-%EB%AA%A8%EB%93%88%EC%9D%84-%ED%99%9C%EC%9A%A9%ED%95%98%EC%97%AC-dataset%EB%A1%9C%EB%94%A9%ED%95%98%EA%B8%B0\n",
        "*   **load_diabetes**: 당뇨병 환자 데이터셋 준비\n",
        "\n"
      ]
    },
    {
      "cell_type": "code",
      "metadata": {
        "id": "2HEpK3Q9j_3_"
      },
      "source": [
        "from sklearn.datasets import load_diabetes"
      ],
      "execution_count": 2,
      "outputs": []
    },
    {
      "cell_type": "code",
      "metadata": {
        "id": "X6JYAWEIlpy1"
      },
      "source": [
        "diabetes = load_diabetes()"
      ],
      "execution_count": 3,
      "outputs": []
    },
    {
      "cell_type": "code",
      "metadata": {
        "colab": {
          "base_uri": "https://localhost:8080/"
        },
        "id": "3iqRcoTzqxQ1",
        "outputId": "bb7ad18a-0941-4d3e-b2c3-d4970df96756"
      },
      "source": [
        "diabetes"
      ],
      "execution_count": 4,
      "outputs": [
        {
          "output_type": "execute_result",
          "data": {
            "text/plain": [
              "{'DESCR': '.. _diabetes_dataset:\\n\\nDiabetes dataset\\n----------------\\n\\nTen baseline variables, age, sex, body mass index, average blood\\npressure, and six blood serum measurements were obtained for each of n =\\n442 diabetes patients, as well as the response of interest, a\\nquantitative measure of disease progression one year after baseline.\\n\\n**Data Set Characteristics:**\\n\\n  :Number of Instances: 442\\n\\n  :Number of Attributes: First 10 columns are numeric predictive values\\n\\n  :Target: Column 11 is a quantitative measure of disease progression one year after baseline\\n\\n  :Attribute Information:\\n      - Age\\n      - Sex\\n      - Body mass index\\n      - Average blood pressure\\n      - S1\\n      - S2\\n      - S3\\n      - S4\\n      - S5\\n      - S6\\n\\nNote: Each of these 10 feature variables have been mean centered and scaled by the standard deviation times `n_samples` (i.e. the sum of squares of each column totals 1).\\n\\nSource URL:\\nhttps://www4.stat.ncsu.edu/~boos/var.select/diabetes.html\\n\\nFor more information see:\\nBradley Efron, Trevor Hastie, Iain Johnstone and Robert Tibshirani (2004) \"Least Angle Regression,\" Annals of Statistics (with discussion), 407-499.\\n(https://web.stanford.edu/~hastie/Papers/LARS/LeastAngle_2002.pdf)',\n",
              " 'data': array([[ 0.03807591,  0.05068012,  0.06169621, ..., -0.00259226,\n",
              "          0.01990842, -0.01764613],\n",
              "        [-0.00188202, -0.04464164, -0.05147406, ..., -0.03949338,\n",
              "         -0.06832974, -0.09220405],\n",
              "        [ 0.08529891,  0.05068012,  0.04445121, ..., -0.00259226,\n",
              "          0.00286377, -0.02593034],\n",
              "        ...,\n",
              "        [ 0.04170844,  0.05068012, -0.01590626, ..., -0.01107952,\n",
              "         -0.04687948,  0.01549073],\n",
              "        [-0.04547248, -0.04464164,  0.03906215, ...,  0.02655962,\n",
              "          0.04452837, -0.02593034],\n",
              "        [-0.04547248, -0.04464164, -0.0730303 , ..., -0.03949338,\n",
              "         -0.00421986,  0.00306441]]),\n",
              " 'data_filename': '/usr/local/lib/python3.7/dist-packages/sklearn/datasets/data/diabetes_data.csv.gz',\n",
              " 'feature_names': ['age',\n",
              "  'sex',\n",
              "  'bmi',\n",
              "  'bp',\n",
              "  's1',\n",
              "  's2',\n",
              "  's3',\n",
              "  's4',\n",
              "  's5',\n",
              "  's6'],\n",
              " 'target': array([151.,  75., 141., 206., 135.,  97., 138.,  63., 110., 310., 101.,\n",
              "         69., 179., 185., 118., 171., 166., 144.,  97., 168.,  68.,  49.,\n",
              "         68., 245., 184., 202., 137.,  85., 131., 283., 129.,  59., 341.,\n",
              "         87.,  65., 102., 265., 276., 252.,  90., 100.,  55.,  61.,  92.,\n",
              "        259.,  53., 190., 142.,  75., 142., 155., 225.,  59., 104., 182.,\n",
              "        128.,  52.,  37., 170., 170.,  61., 144.,  52., 128.,  71., 163.,\n",
              "        150.,  97., 160., 178.,  48., 270., 202., 111.,  85.,  42., 170.,\n",
              "        200., 252., 113., 143.,  51.,  52., 210.,  65., 141.,  55., 134.,\n",
              "         42., 111.,  98., 164.,  48.,  96.,  90., 162., 150., 279.,  92.,\n",
              "         83., 128., 102., 302., 198.,  95.,  53., 134., 144., 232.,  81.,\n",
              "        104.,  59., 246., 297., 258., 229., 275., 281., 179., 200., 200.,\n",
              "        173., 180.,  84., 121., 161.,  99., 109., 115., 268., 274., 158.,\n",
              "        107.,  83., 103., 272.,  85., 280., 336., 281., 118., 317., 235.,\n",
              "         60., 174., 259., 178., 128.,  96., 126., 288.,  88., 292.,  71.,\n",
              "        197., 186.,  25.,  84.,  96., 195.,  53., 217., 172., 131., 214.,\n",
              "         59.,  70., 220., 268., 152.,  47.,  74., 295., 101., 151., 127.,\n",
              "        237., 225.,  81., 151., 107.,  64., 138., 185., 265., 101., 137.,\n",
              "        143., 141.,  79., 292., 178.,  91., 116.,  86., 122.,  72., 129.,\n",
              "        142.,  90., 158.,  39., 196., 222., 277.,  99., 196., 202., 155.,\n",
              "         77., 191.,  70.,  73.,  49.,  65., 263., 248., 296., 214., 185.,\n",
              "         78.,  93., 252., 150.,  77., 208.,  77., 108., 160.,  53., 220.,\n",
              "        154., 259.,  90., 246., 124.,  67.,  72., 257., 262., 275., 177.,\n",
              "         71.,  47., 187., 125.,  78.,  51., 258., 215., 303., 243.,  91.,\n",
              "        150., 310., 153., 346.,  63.,  89.,  50.,  39., 103., 308., 116.,\n",
              "        145.,  74.,  45., 115., 264.,  87., 202., 127., 182., 241.,  66.,\n",
              "         94., 283.,  64., 102., 200., 265.,  94., 230., 181., 156., 233.,\n",
              "         60., 219.,  80.,  68., 332., 248.,  84., 200.,  55.,  85.,  89.,\n",
              "         31., 129.,  83., 275.,  65., 198., 236., 253., 124.,  44., 172.,\n",
              "        114., 142., 109., 180., 144., 163., 147.,  97., 220., 190., 109.,\n",
              "        191., 122., 230., 242., 248., 249., 192., 131., 237.,  78., 135.,\n",
              "        244., 199., 270., 164.,  72.,  96., 306.,  91., 214.,  95., 216.,\n",
              "        263., 178., 113., 200., 139., 139.,  88., 148.,  88., 243.,  71.,\n",
              "         77., 109., 272.,  60.,  54., 221.,  90., 311., 281., 182., 321.,\n",
              "         58., 262., 206., 233., 242., 123., 167.,  63., 197.,  71., 168.,\n",
              "        140., 217., 121., 235., 245.,  40.,  52., 104., 132.,  88.,  69.,\n",
              "        219.,  72., 201., 110.,  51., 277.,  63., 118.,  69., 273., 258.,\n",
              "         43., 198., 242., 232., 175.,  93., 168., 275., 293., 281.,  72.,\n",
              "        140., 189., 181., 209., 136., 261., 113., 131., 174., 257.,  55.,\n",
              "         84.,  42., 146., 212., 233.,  91., 111., 152., 120.,  67., 310.,\n",
              "         94., 183.,  66., 173.,  72.,  49.,  64.,  48., 178., 104., 132.,\n",
              "        220.,  57.]),\n",
              " 'target_filename': '/usr/local/lib/python3.7/dist-packages/sklearn/datasets/data/diabetes_target.csv.gz'}"
            ]
          },
          "metadata": {
            "tags": []
          },
          "execution_count": 4
        }
      ]
    },
    {
      "cell_type": "markdown",
      "metadata": {
        "id": "_N67ZU3vl5vU"
      },
      "source": [
        "## 3. 입력과 타깃 데이터의 크기 확인"
      ]
    },
    {
      "cell_type": "markdown",
      "metadata": {
        "id": "OizyrFFQmQ2u"
      },
      "source": [
        "data는 442 * 10 크기의 2차원 배열, target은 442개의 요소를 가진 1차원 배열\n",
        "\n",
        "행은 샘플(sample), 열은 샘플의 특성(feature) 의미\n",
        "\n",
        "\n",
        "\n",
        "---\n",
        "\n",
        "\n",
        "*  **샘플**: 당뇨병 환자에 대한 특성으로 이루어진 데이터 1세트\n",
        "*   **특성**: 당뇨병 환자들의 여러 특징 ex) 키, 몸무게, 혈압, 혈당 등\n",
        "\n",
        "---\n",
        "\n",
        "\n",
        "*   **.shape**: 행렬의 차원, 크기 확인\n",
        "\n",
        "\n",
        "\n",
        "\n",
        "\n"
      ]
    },
    {
      "cell_type": "code",
      "metadata": {
        "id": "t4Y2HBFgl4fg",
        "colab": {
          "base_uri": "https://localhost:8080/"
        },
        "outputId": "4ae0b1d7-b91d-4577-d760-fadd6f813dba"
      },
      "source": [
        "print(diabetes.data.shape, diabetes.target.shape)"
      ],
      "execution_count": 5,
      "outputs": [
        {
          "output_type": "stream",
          "text": [
            "(442, 10) (442,)\n"
          ],
          "name": "stdout"
        }
      ]
    },
    {
      "cell_type": "code",
      "metadata": {
        "colab": {
          "base_uri": "https://localhost:8080/"
        },
        "id": "vfRZFr_rrZjo",
        "outputId": "53ba07f1-5689-41ec-b3fd-759475d1c39f"
      },
      "source": [
        "print(diabetes.data[0:3])\n",
        "print(diabetes.target[:3])"
      ],
      "execution_count": 7,
      "outputs": [
        {
          "output_type": "stream",
          "text": [
            "[[ 0.03807591  0.05068012  0.06169621  0.02187235 -0.0442235  -0.03482076\n",
            "  -0.04340085 -0.00259226  0.01990842 -0.01764613]\n",
            " [-0.00188202 -0.04464164 -0.05147406 -0.02632783 -0.00844872 -0.01916334\n",
            "   0.07441156 -0.03949338 -0.06832974 -0.09220405]\n",
            " [ 0.08529891  0.05068012  0.04445121 -0.00567061 -0.04559945 -0.03419447\n",
            "  -0.03235593 -0.00259226  0.00286377 -0.02593034]]\n",
            "[151.  75. 141.]\n"
          ],
          "name": "stdout"
        }
      ]
    },
    {
      "cell_type": "markdown",
      "metadata": {
        "id": "7wy_oFKcn2dw"
      },
      "source": [
        "## 4. 시각화(산포도 그리기)"
      ]
    },
    {
      "cell_type": "markdown",
      "metadata": {
        "id": "TLTA0L7foTUu"
      },
      "source": [
        "\n",
        "\n",
        "*   **plt.scatter**: 산포도 그리기\n",
        "*   **plt.xlabel(\"  \")**: x축에 괄호 안에 들어가는 문자, 또는 문자열로 이름을 붙임\n",
        "* **plt.ylabel(\"  \")**: y축에 괄호 안에 들어가는 문자, 또는 문자열로 이름을 붙임\n",
        "\n"
      ]
    },
    {
      "cell_type": "code",
      "metadata": {
        "colab": {
          "base_uri": "https://localhost:8080/",
          "height": 279
        },
        "id": "qFR1jJuwql8R",
        "outputId": "51a43216-4e69-48bb-fd75-d932a56fa64b"
      },
      "source": [
        "# 그래프 그리기\n",
        "plt.scatter(diabetes.data[:,2], diabetes.target)\n",
        "plt.xlabel(\"X\")\n",
        "plt.ylabel(\"Y\")\n",
        "plt.show()"
      ],
      "execution_count": 8,
      "outputs": [
        {
          "output_type": "display_data",
          "data": {
            "image/png": "[encoded data removed]",
            "text/plain": [
              "<Figure size 432x288 with 1 Axes>"
            ]
          },
          "metadata": {
            "tags": [],
            "needs_background": "light"
          }
        }
      ]
    },
    {
      "cell_type": "markdown",
      "metadata": {
        "id": "lvwp48VLo0Q4"
      },
      "source": [
        "## 5. 경사 하강법"
      ]
    },
    {
      "cell_type": "markdown",
      "metadata": {
        "id": "Rwa0hM3RqN4B"
      },
      "source": [
        "### 1) 가중치 초기화"
      ]
    },
    {
      "cell_type": "code",
      "metadata": {
        "id": "9XjcOzdQskQN"
      },
      "source": [
        "# W, b를 모두 1.0으로 초기화\n",
        "W = 1.0\n",
        "b = 1.0"
      ],
      "execution_count": 9,
      "outputs": []
    },
    {
      "cell_type": "code",
      "metadata": {
        "colab": {
          "base_uri": "https://localhost:8080/",
          "height": 265
        },
        "id": "99M88GeB09iU",
        "outputId": "84a696e0-98e6-4eba-f51a-a33fdf88a2db"
      },
      "source": [
        "# 입력 x와 타깃 y\n",
        "x = diabetes.data[:,2]\n",
        "y = diabetes.target\n",
        "plt.scatter(x,y)\n",
        "\n",
        "# 선형 회귀 방정식 y_hat에 대입하기\n",
        "y_hat = W * x + b\n",
        "plt.plot(x, y_hat)\n",
        "plt.show()"
      ],
      "execution_count": 11,
      "outputs": [
        {
          "output_type": "display_data",
          "data": {
            "image/png": "[encoded data removed]",
            "text/plain": [
              "<Figure size 432x288 with 1 Axes>"
            ]
          },
          "metadata": {
            "tags": [],
            "needs_background": "light"
          }
        }
      ]
    },
    {
      "cell_type": "markdown",
      "metadata": {
        "id": "s29k1Zw8qhR-"
      },
      "source": [
        "### 2) 예측값 구하기"
      ]
    },
    {
      "cell_type": "code",
      "metadata": {
        "id": "y1ul0sxY2RUE"
      },
      "source": [
        "def forpass(x):\n",
        "  # 선형 회귀 방정식 y_hat에 대입하기\n",
        "  y_hat = W * x + b\n",
        "  return y_hat"
      ],
      "execution_count": 12,
      "outputs": []
    },
    {
      "cell_type": "markdown",
      "metadata": {
        "id": "dADlUTOdq1u0"
      },
      "source": [
        "### 3) 가중치 업데이트"
      ]
    },
    {
      "cell_type": "code",
      "metadata": {
        "id": "vdwNvEjr2VzK"
      },
      "source": [
        "def backprop(x, err):\n",
        "  # w_grad라는 변수에 x에 err을 곱하여 대입\n",
        "  w_grad = x * err\n",
        "  # b_grad라는 변수에 1에 err을 곱하여 대입\n",
        "  b_grad = 1 * err\n",
        "  return w_grad, b_grad"
      ],
      "execution_count": 13,
      "outputs": []
    },
    {
      "cell_type": "markdown",
      "metadata": {
        "id": "HWOFiSznrbnb"
      },
      "source": [
        "### 4) 모든 샘플과 에포크에 대해 반복"
      ]
    },
    {
      "cell_type": "code",
      "metadata": {
        "id": "NacL3IYA2hD2"
      },
      "source": [
        "def fit(x, y, epoch = 100):\n",
        "  global W\n",
        "  global b\n",
        "  # for문 사용 -> 만약 i가 epoch 안에 있다면:\n",
        "  for i in range(epoch):\n",
        "    for x_i, y_i in zip(x,y):\n",
        "      # y_hat는 x_i를 forpass 함수에 대입한 값\n",
        "      y_hat = forpass(x_i)\n",
        "      # err는 y_i에서 y_hat를 뺀 값에 마이너스한 값\n",
        "      err = -1 * (y_i - y_hat)\n",
        "      w_grad, b_grad = backprop(x_i, err)\n",
        "      W -= w_grad\n",
        "      b -= b_grad"
      ],
      "execution_count": 16,
      "outputs": []
    },
    {
      "cell_type": "markdown",
      "metadata": {
        "id": "46bUe0zZtCC_"
      },
      "source": [
        "### 5) 알고리즘 실행 후 결과 그래프 확인"
      ]
    },
    {
      "cell_type": "code",
      "metadata": {
        "id": "kyHP0mj3s-W9"
      },
      "source": [
        "fit(x, y)"
      ],
      "execution_count": 17,
      "outputs": []
    },
    {
      "cell_type": "code",
      "metadata": {
        "id": "Af7u8_kTtKV-",
        "colab": {
          "base_uri": "https://localhost:8080/",
          "height": 265
        },
        "outputId": "aa93f417-7a83-4aee-fbfc-665fb2201055"
      },
      "source": [
        "# 입력 x와 타깃 y\n",
        "plt.scatter(x,y)\n",
        "\n",
        "# 선형 회귀 방정식 y_hat에 대입하기\n",
        "y_hat = W * x + b\n",
        "plt.plot(x, y_hat)\n",
        "plt.show()"
      ],
      "execution_count": 18,
      "outputs": [
        {
          "output_type": "display_data",
          "data": {
            "image/png": "[encoded data removed]",
            "text/plain": [
              "<Figure size 432x288 with 1 Axes>"
            ]
          },
          "metadata": {
            "tags": [],
            "needs_background": "light"
          }
        }
      ]
    }
  ]
}