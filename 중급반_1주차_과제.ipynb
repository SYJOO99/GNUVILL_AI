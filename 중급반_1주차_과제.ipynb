{
  "nbformat": 4,
  "nbformat_minor": 0,
  "metadata": {
    "colab": {
      "name": "중급반_1주차_과제.ipynb",
      "provenance": [],
      "collapsed_sections": [],
      "include_colab_link": true
    },
    "kernelspec": {
      "name": "python3",
      "display_name": "Python 3"
    }
  },
  "cells": [
    {
      "cell_type": "markdown",
      "metadata": {
        "id": "view-in-github",
        "colab_type": "text"
      },
      "source": [
        "<a href=\"https://colab.research.google.com/github/SYJOO99/GNUVILL_AI/blob/main/%EC%A4%91%EA%B8%89%EB%B0%98_1%EC%A3%BC%EC%B0%A8_%EA%B3%BC%EC%A0%9C.ipynb\" target=\"_parent\"><img src=\"https://colab.research.google.com/assets/colab-badge.svg\" alt=\"Open In Colab\"/></a>"
      ]
    },
    {
      "cell_type": "markdown",
      "metadata": {
        "id": "mWomYaKXwNVB"
      },
      "source": [
        "#pandas, numpy, matplotlib 연습문제(중급)"
      ]
    },
    {
      "cell_type": "markdown",
      "metadata": {
        "id": "iDoBguA4wYhL"
      },
      "source": [
        "##pandas"
      ]
    },
    {
      "cell_type": "code",
      "metadata": {
        "id": "NugeGP-WxTuX"
      },
      "source": [
        "import pandas as pd"
      ],
      "execution_count": null,
      "outputs": []
    },
    {
      "cell_type": "code",
      "metadata": {
        "colab": {
          "base_uri": "https://localhost:8080/"
        },
        "id": "lsJ8q0-Tvr1n",
        "outputId": "05e24f0d-d719-4aa8-c9ed-69c41c8de9e6"
      },
      "source": [
        "!wget --no-check-certificate 'https://docs.google.com/uc?export=download&id=1Zp8GnBFJwA6OzzIKX3MC83fg78qTmSiZ' -O titanic.csv #titanic.csv 파일 읽어오기"
      ],
      "execution_count": null,
      "outputs": [
        {
          "output_type": "stream",
          "text": [
            "--2021-03-17 05:53:15--  https://docs.google.com/uc?export=download&id=1Zp8GnBFJwA6OzzIKX3MC83fg78qTmSiZ\n",
            "Resolving docs.google.com (docs.google.com)... 74.125.142.101, 74.125.142.113, 74.125.142.102, ...\n",
            "Connecting to docs.google.com (docs.google.com)|74.125.142.101|:443... connected.\n",
            "HTTP request sent, awaiting response... 302 Moved Temporarily\n",
            "Location: https://doc-0s-0c-docs.googleusercontent.com/docs/securesc/ha0ro937gcuc7l7deffksulhg5h7mbp1/77uvdue4poc4f2k4shud0ie1dlka3461/1615960350000/03313771899298518038/*/1Zp8GnBFJwA6OzzIKX3MC83fg78qTmSiZ?e=download [following]\n",
            "Warning: wildcards not supported in HTTP.\n",
            "--2021-03-17 05:53:15--  https://doc-0s-0c-docs.googleusercontent.com/docs/securesc/ha0ro937gcuc7l7deffksulhg5h7mbp1/77uvdue4poc4f2k4shud0ie1dlka3461/1615960350000/03313771899298518038/*/1Zp8GnBFJwA6OzzIKX3MC83fg78qTmSiZ?e=download\n",
            "Resolving doc-0s-0c-docs.googleusercontent.com (doc-0s-0c-docs.googleusercontent.com)... 74.125.20.132, 2607:f8b0:400e:c07::84\n",
            "Connecting to doc-0s-0c-docs.googleusercontent.com (doc-0s-0c-docs.googleusercontent.com)|74.125.20.132|:443... connected.\n",
            "HTTP request sent, awaiting response... 200 OK\n",
            "Length: 60302 (59K) [text/csv]\n",
            "Saving to: ‘titanic.csv’\n",
            "\n",
            "titanic.csv         100%[===================>]  58.89K  --.-KB/s    in 0.001s  \n",
            "\n",
            "2021-03-17 05:53:15 (96.4 MB/s) - ‘titanic.csv’ saved [60302/60302]\n",
            "\n"
          ],
          "name": "stdout"
        }
      ]
    },
    {
      "cell_type": "code",
      "metadata": {
        "id": "14REAHyGwYUV"
      },
      "source": [
        "# titanic 데이터 읽어오기\r\n",
        "titanic = pd.read_csv(\"/content/titanic.csv\")"
      ],
      "execution_count": null,
      "outputs": []
    },
    {
      "cell_type": "code",
      "metadata": {
        "id": "OC2DPnyBxSQG",
        "colab": {
          "base_uri": "https://localhost:8080/",
          "height": 402
        },
        "outputId": "1c357b10-c409-4d4a-df8d-4bf3a04dee24"
      },
      "source": [
        "# titanic Dataframe 보기\r\n",
        "titanic"
      ],
      "execution_count": null,
      "outputs": [
        {
          "output_type": "execute_result",
          "data": {
            "text/html": [
              "<div>\n",
              "<style scoped>\n",
              "    .dataframe tbody tr th:only-of-type {\n",
              "        vertical-align: middle;\n",
              "    }\n",
              "\n",
              "    .dataframe tbody tr th {\n",
              "        vertical-align: top;\n",
              "    }\n",
              "\n",
              "    .dataframe thead th {\n",
              "        text-align: right;\n",
              "    }\n",
              "</style>\n",
              "<table border=\"1\" class=\"dataframe\">\n",
              "  <thead>\n",
              "    <tr style=\"text-align: right;\">\n",
              "      <th></th>\n",
              "      <th>PassengerId</th>\n",
              "      <th>Survived</th>\n",
              "      <th>Pclass</th>\n",
              "      <th>Name</th>\n",
              "      <th>Sex</th>\n",
              "      <th>Age</th>\n",
              "      <th>SibSp</th>\n",
              "      <th>Parch</th>\n",
              "      <th>Ticket</th>\n",
              "      <th>Fare</th>\n",
              "      <th>Cabin</th>\n",
              "      <th>Embarked</th>\n",
              "    </tr>\n",
              "  </thead>\n",
              "  <tbody>\n",
              "    <tr>\n",
              "      <th>0</th>\n",
              "      <td>1</td>\n",
              "      <td>0</td>\n",
              "      <td>3</td>\n",
              "      <td>Braund, Mr. Owen Harris</td>\n",
              "      <td>male</td>\n",
              "      <td>22.0</td>\n",
              "      <td>1</td>\n",
              "      <td>0</td>\n",
              "      <td>A/5 21171</td>\n",
              "      <td>7.2500</td>\n",
              "      <td>NaN</td>\n",
              "      <td>S</td>\n",
              "    </tr>\n",
              "    <tr>\n",
              "      <th>1</th>\n",
              "      <td>2</td>\n",
              "      <td>1</td>\n",
              "      <td>1</td>\n",
              "      <td>Cumings, Mrs. John Bradley (Florence Briggs Th...</td>\n",
              "      <td>female</td>\n",
              "      <td>38.0</td>\n",
              "      <td>1</td>\n",
              "      <td>0</td>\n",
              "      <td>PC 17599</td>\n",
              "      <td>71.2833</td>\n",
              "      <td>C85</td>\n",
              "      <td>C</td>\n",
              "    </tr>\n",
              "    <tr>\n",
              "      <th>2</th>\n",
              "      <td>3</td>\n",
              "      <td>1</td>\n",
              "      <td>3</td>\n",
              "      <td>Heikkinen, Miss. Laina</td>\n",
              "      <td>female</td>\n",
              "      <td>26.0</td>\n",
              "      <td>0</td>\n",
              "      <td>0</td>\n",
              "      <td>STON/O2. 3101282</td>\n",
              "      <td>7.9250</td>\n",
              "      <td>NaN</td>\n",
              "      <td>S</td>\n",
              "    </tr>\n",
              "    <tr>\n",
              "      <th>3</th>\n",
              "      <td>4</td>\n",
              "      <td>1</td>\n",
              "      <td>1</td>\n",
              "      <td>Futrelle, Mrs. Jacques Heath (Lily May Peel)</td>\n",
              "      <td>female</td>\n",
              "      <td>35.0</td>\n",
              "      <td>1</td>\n",
              "      <td>0</td>\n",
              "      <td>113803</td>\n",
              "      <td>53.1000</td>\n",
              "      <td>C123</td>\n",
              "      <td>S</td>\n",
              "    </tr>\n",
              "    <tr>\n",
              "      <th>4</th>\n",
              "      <td>5</td>\n",
              "      <td>0</td>\n",
              "      <td>3</td>\n",
              "      <td>Allen, Mr. William Henry</td>\n",
              "      <td>male</td>\n",
              "      <td>35.0</td>\n",
              "      <td>0</td>\n",
              "      <td>0</td>\n",
              "      <td>373450</td>\n",
              "      <td>8.0500</td>\n",
              "      <td>NaN</td>\n",
              "      <td>S</td>\n",
              "    </tr>\n",
              "    <tr>\n",
              "      <th>...</th>\n",
              "      <td>...</td>\n",
              "      <td>...</td>\n",
              "      <td>...</td>\n",
              "      <td>...</td>\n",
              "      <td>...</td>\n",
              "      <td>...</td>\n",
              "      <td>...</td>\n",
              "      <td>...</td>\n",
              "      <td>...</td>\n",
              "      <td>...</td>\n",
              "      <td>...</td>\n",
              "      <td>...</td>\n",
              "    </tr>\n",
              "    <tr>\n",
              "      <th>886</th>\n",
              "      <td>887</td>\n",
              "      <td>0</td>\n",
              "      <td>2</td>\n",
              "      <td>Montvila, Rev. Juozas</td>\n",
              "      <td>male</td>\n",
              "      <td>27.0</td>\n",
              "      <td>0</td>\n",
              "      <td>0</td>\n",
              "      <td>211536</td>\n",
              "      <td>13.0000</td>\n",
              "      <td>NaN</td>\n",
              "      <td>S</td>\n",
              "    </tr>\n",
              "    <tr>\n",
              "      <th>887</th>\n",
              "      <td>888</td>\n",
              "      <td>1</td>\n",
              "      <td>1</td>\n",
              "      <td>Graham, Miss. Margaret Edith</td>\n",
              "      <td>female</td>\n",
              "      <td>19.0</td>\n",
              "      <td>0</td>\n",
              "      <td>0</td>\n",
              "      <td>112053</td>\n",
              "      <td>30.0000</td>\n",
              "      <td>B42</td>\n",
              "      <td>S</td>\n",
              "    </tr>\n",
              "    <tr>\n",
              "      <th>888</th>\n",
              "      <td>889</td>\n",
              "      <td>0</td>\n",
              "      <td>3</td>\n",
              "      <td>Johnston, Miss. Catherine Helen \"Carrie\"</td>\n",
              "      <td>female</td>\n",
              "      <td>NaN</td>\n",
              "      <td>1</td>\n",
              "      <td>2</td>\n",
              "      <td>W./C. 6607</td>\n",
              "      <td>23.4500</td>\n",
              "      <td>NaN</td>\n",
              "      <td>S</td>\n",
              "    </tr>\n",
              "    <tr>\n",
              "      <th>889</th>\n",
              "      <td>890</td>\n",
              "      <td>1</td>\n",
              "      <td>1</td>\n",
              "      <td>Behr, Mr. Karl Howell</td>\n",
              "      <td>male</td>\n",
              "      <td>26.0</td>\n",
              "      <td>0</td>\n",
              "      <td>0</td>\n",
              "      <td>111369</td>\n",
              "      <td>30.0000</td>\n",
              "      <td>C148</td>\n",
              "      <td>C</td>\n",
              "    </tr>\n",
              "    <tr>\n",
              "      <th>890</th>\n",
              "      <td>891</td>\n",
              "      <td>0</td>\n",
              "      <td>3</td>\n",
              "      <td>Dooley, Mr. Patrick</td>\n",
              "      <td>male</td>\n",
              "      <td>32.0</td>\n",
              "      <td>0</td>\n",
              "      <td>0</td>\n",
              "      <td>370376</td>\n",
              "      <td>7.7500</td>\n",
              "      <td>NaN</td>\n",
              "      <td>Q</td>\n",
              "    </tr>\n",
              "  </tbody>\n",
              "</table>\n",
              "<p>891 rows × 12 columns</p>\n",
              "</div>"
            ],
            "text/plain": [
              "     PassengerId  Survived  Pclass  ...     Fare Cabin  Embarked\n",
              "0              1         0       3  ...   7.2500   NaN         S\n",
              "1              2         1       1  ...  71.2833   C85         C\n",
              "2              3         1       3  ...   7.9250   NaN         S\n",
              "3              4         1       1  ...  53.1000  C123         S\n",
              "4              5         0       3  ...   8.0500   NaN         S\n",
              "..           ...       ...     ...  ...      ...   ...       ...\n",
              "886          887         0       2  ...  13.0000   NaN         S\n",
              "887          888         1       1  ...  30.0000   B42         S\n",
              "888          889         0       3  ...  23.4500   NaN         S\n",
              "889          890         1       1  ...  30.0000  C148         C\n",
              "890          891         0       3  ...   7.7500   NaN         Q\n",
              "\n",
              "[891 rows x 12 columns]"
            ]
          },
          "metadata": {
            "tags": []
          },
          "execution_count": 4
        }
      ]
    },
    {
      "cell_type": "markdown",
      "metadata": {
        "id": "w7yKoZI4xs6V"
      },
      "source": [
        "**1. 남자(male)이면서 Pclass가 1인 승객은 몇 명일까요?**"
      ]
    },
    {
      "cell_type": "code",
      "metadata": {
        "id": "EEb9ahHBxZCJ",
        "colab": {
          "base_uri": "https://localhost:8080/"
        },
        "outputId": "147c2eb7-f127-4e1b-da1a-76fee956d2b2"
      },
      "source": [
        "male_Pclass = titanic[(titanic[\"Pclass\"] == 3) & (titanic[\"Sex\"] == \"male\")]\r\n",
        "#male_Pclass\r\n",
        "print('남자(male)이면서 Pclass가 1인 승객', len(male_Pclass), '명')"
      ],
      "execution_count": null,
      "outputs": [
        {
          "output_type": "stream",
          "text": [
            "남자(male)이면서 Pclass가 1인 승객 347 명\n"
          ],
          "name": "stdout"
        }
      ]
    },
    {
      "cell_type": "markdown",
      "metadata": {
        "id": "-sP6oAEPx7dk"
      },
      "source": [
        "**2. 남자이면서 Pclass가 1이고 Fare가 50 이상인 승객은 몇 명일까요?**"
      ]
    },
    {
      "cell_type": "code",
      "metadata": {
        "id": "JUYdwdnNx65m",
        "colab": {
          "base_uri": "https://localhost:8080/"
        },
        "outputId": "8f76bbfd-9bee-4bce-dab3-857c574717e5"
      },
      "source": [
        "male_Pclass_Fare = titanic[(titanic[\"Pclass\"] == 1) & (titanic[\"Sex\"] == \"male\") & (titanic[\"Fare\"] >= 50)]\r\n",
        "#male_Pclass_Fare\r\n",
        "print('남자이면서 Pclass가 1이고 Fare가 50 이상인 승객', len(male_Pclass_Fare), '명')"
      ],
      "execution_count": null,
      "outputs": [
        {
          "output_type": "stream",
          "text": [
            "남자이면서 Pclass가 1이고 Fare가 50 이상인 승객 58 명\n"
          ],
          "name": "stdout"
        }
      ]
    },
    {
      "cell_type": "markdown",
      "metadata": {
        "id": "pP--1cLuyJQP"
      },
      "source": [
        "**3. 2번 문제의 내용을 데이터로 한 Dataframe 만들기**"
      ]
    },
    {
      "cell_type": "code",
      "metadata": {
        "id": "7dsvANHpyHSn",
        "colab": {
          "base_uri": "https://localhost:8080/"
        },
        "outputId": "ba506452-5798-4d74-935b-40774f2f35be"
      },
      "source": [
        "from pandas import DataFrame, Series\r\n",
        "\r\n",
        "print(DataFrame(male_Pclass_Fare))"
      ],
      "execution_count": null,
      "outputs": [
        {
          "output_type": "stream",
          "text": [
            "     PassengerId  Survived  Pclass  ...      Fare        Cabin  Embarked\n",
            "6              7         0       1  ...   51.8625          E46         S\n",
            "27            28         0       1  ...  263.0000  C23 C25 C27         S\n",
            "34            35         0       1  ...   82.1708          NaN         C\n",
            "35            36         0       1  ...   52.0000          NaN         S\n",
            "54            55         0       1  ...   61.9792          B30         C\n",
            "62            63         0       1  ...   83.4750          C83         S\n",
            "92            93         0       1  ...   61.1750          E31         S\n",
            "97            98         1       1  ...   63.3583      D10 D12         C\n",
            "102          103         0       1  ...   77.2875          D26         S\n",
            "110          111         0       1  ...   52.0000         C110         S\n",
            "118          119         0       1  ...  247.5208      B58 B60         C\n",
            "124          125         0       1  ...   77.2875          D26         S\n",
            "137          138         0       1  ...   53.1000         C123         S\n",
            "139          140         0       1  ...   79.2000          B86         C\n",
            "155          156         0       1  ...   61.3792          NaN         C\n",
            "185          186         0       1  ...   50.0000          A32         S\n",
            "224          225         1       1  ...   90.0000          C93         S\n",
            "245          246         0       1  ...   90.0000          C78         Q\n",
            "248          249         1       1  ...   52.5542          D35         S\n",
            "262          263         0       1  ...   79.6500          E67         S\n",
            "305          306         1       1  ...  151.5500      C22 C26         S\n",
            "332          333         0       1  ...  153.4625          C91         S\n",
            "336          337         0       1  ...   66.6000           C2         S\n",
            "370          371         1       1  ...   55.4417          E50         C\n",
            "373          374         0       1  ...  135.6333          NaN         C\n",
            "377          378         0       1  ...  211.5000          C82         C\n",
            "390          391         1       1  ...  120.0000      B96 B98         S\n",
            "434          435         0       1  ...   55.9000          E44         S\n",
            "438          439         0       1  ...  263.0000  C23 C25 C27         S\n",
            "445          446         1       1  ...   81.8583          A34         S\n",
            "453          454         1       1  ...   89.1042          C92         C\n",
            "475          476         0       1  ...   52.0000          A14         S\n",
            "484          485         1       1  ...   91.0792          B49         C\n",
            "505          506         0       1  ...  108.9000          C65         C\n",
            "527          528         0       1  ...  221.7792          C95         S\n",
            "544          545         0       1  ...  106.4250          C86         C\n",
            "550          551         1       1  ...  110.8833          C70         C\n",
            "557          558         0       1  ...  227.5250          NaN         C\n",
            "587          588         1       1  ...   79.2000          B41         C\n",
            "599          600         1       1  ...   56.9292          A20         C\n",
            "621          622         1       1  ...   52.5542          D19         S\n",
            "645          646         1       1  ...   76.7292          D33         C\n",
            "659          660         0       1  ...  113.2750          D48         C\n",
            "660          661         1       1  ...  133.6500          NaN         S\n",
            "671          672         0       1  ...   52.0000          B71         S\n",
            "679          680         1       1  ...  512.3292  B51 B53 B55         C\n",
            "681          682         1       1  ...   76.7292          D49         C\n",
            "690          691         1       1  ...   57.0000          B20         S\n",
            "698          699         0       1  ...  110.8833          C68         C\n",
            "712          713         1       1  ...   52.0000         C126         S\n",
            "724          725         1       1  ...   53.1000           E8         S\n",
            "737          738         1       1  ...  512.3292         B101         C\n",
            "741          742         0       1  ...   78.8500          C46         S\n",
            "745          746         0       1  ...   71.0000          B22         S\n",
            "748          749         0       1  ...   53.1000          D30         S\n",
            "789          790         0       1  ...   79.2000      B82 B84         C\n",
            "802          803         1       1  ...  120.0000      B96 B98         S\n",
            "867          868         0       1  ...   50.4958          A24         S\n",
            "\n",
            "[58 rows x 12 columns]\n"
          ],
          "name": "stdout"
        }
      ]
    },
    {
      "cell_type": "markdown",
      "metadata": {
        "id": "mdElRd673m92"
      },
      "source": [
        "**4. titanic에서 Name에서 first name만을 뽑아 새로운 열인 First_Name을 titanic에 추가해주세요**\r\n",
        "\r\n",
        "ex) johann + Sebastian + Bach\r\n",
        "\r\n",
        "(First name) +(Middle name) + (Surname)"
      ]
    },
    {
      "cell_type": "code",
      "metadata": {
        "id": "tPNAi2xd3mD7",
        "colab": {
          "base_uri": "https://localhost:8080/",
          "height": 402
        },
        "outputId": "09278df8-e288-45ea-f044-8b0a8c60eca3"
      },
      "source": [
        "titanic[\"First_Name\"] = titanic[\"Name\"].str.extract('([A-Za-z]+)\\,', expand = False)\r\n",
        "titanic"
      ],
      "execution_count": null,
      "outputs": [
        {
          "output_type": "execute_result",
          "data": {
            "text/html": [
              "<div>\n",
              "<style scoped>\n",
              "    .dataframe tbody tr th:only-of-type {\n",
              "        vertical-align: middle;\n",
              "    }\n",
              "\n",
              "    .dataframe tbody tr th {\n",
              "        vertical-align: top;\n",
              "    }\n",
              "\n",
              "    .dataframe thead th {\n",
              "        text-align: right;\n",
              "    }\n",
              "</style>\n",
              "<table border=\"1\" class=\"dataframe\">\n",
              "  <thead>\n",
              "    <tr style=\"text-align: right;\">\n",
              "      <th></th>\n",
              "      <th>PassengerId</th>\n",
              "      <th>Survived</th>\n",
              "      <th>Pclass</th>\n",
              "      <th>Name</th>\n",
              "      <th>Sex</th>\n",
              "      <th>Age</th>\n",
              "      <th>SibSp</th>\n",
              "      <th>Parch</th>\n",
              "      <th>Ticket</th>\n",
              "      <th>Fare</th>\n",
              "      <th>Cabin</th>\n",
              "      <th>Embarked</th>\n",
              "      <th>First_Name</th>\n",
              "    </tr>\n",
              "  </thead>\n",
              "  <tbody>\n",
              "    <tr>\n",
              "      <th>0</th>\n",
              "      <td>1</td>\n",
              "      <td>0</td>\n",
              "      <td>3</td>\n",
              "      <td>Braund, Mr. Owen Harris</td>\n",
              "      <td>male</td>\n",
              "      <td>22.0</td>\n",
              "      <td>1</td>\n",
              "      <td>0</td>\n",
              "      <td>A/5 21171</td>\n",
              "      <td>7.2500</td>\n",
              "      <td>NaN</td>\n",
              "      <td>S</td>\n",
              "      <td>Braund</td>\n",
              "    </tr>\n",
              "    <tr>\n",
              "      <th>1</th>\n",
              "      <td>2</td>\n",
              "      <td>1</td>\n",
              "      <td>1</td>\n",
              "      <td>Cumings, Mrs. John Bradley (Florence Briggs Th...</td>\n",
              "      <td>female</td>\n",
              "      <td>38.0</td>\n",
              "      <td>1</td>\n",
              "      <td>0</td>\n",
              "      <td>PC 17599</td>\n",
              "      <td>71.2833</td>\n",
              "      <td>C85</td>\n",
              "      <td>C</td>\n",
              "      <td>Cumings</td>\n",
              "    </tr>\n",
              "    <tr>\n",
              "      <th>2</th>\n",
              "      <td>3</td>\n",
              "      <td>1</td>\n",
              "      <td>3</td>\n",
              "      <td>Heikkinen, Miss. Laina</td>\n",
              "      <td>female</td>\n",
              "      <td>26.0</td>\n",
              "      <td>0</td>\n",
              "      <td>0</td>\n",
              "      <td>STON/O2. 3101282</td>\n",
              "      <td>7.9250</td>\n",
              "      <td>NaN</td>\n",
              "      <td>S</td>\n",
              "      <td>Heikkinen</td>\n",
              "    </tr>\n",
              "    <tr>\n",
              "      <th>3</th>\n",
              "      <td>4</td>\n",
              "      <td>1</td>\n",
              "      <td>1</td>\n",
              "      <td>Futrelle, Mrs. Jacques Heath (Lily May Peel)</td>\n",
              "      <td>female</td>\n",
              "      <td>35.0</td>\n",
              "      <td>1</td>\n",
              "      <td>0</td>\n",
              "      <td>113803</td>\n",
              "      <td>53.1000</td>\n",
              "      <td>C123</td>\n",
              "      <td>S</td>\n",
              "      <td>Futrelle</td>\n",
              "    </tr>\n",
              "    <tr>\n",
              "      <th>4</th>\n",
              "      <td>5</td>\n",
              "      <td>0</td>\n",
              "      <td>3</td>\n",
              "      <td>Allen, Mr. William Henry</td>\n",
              "      <td>male</td>\n",
              "      <td>35.0</td>\n",
              "      <td>0</td>\n",
              "      <td>0</td>\n",
              "      <td>373450</td>\n",
              "      <td>8.0500</td>\n",
              "      <td>NaN</td>\n",
              "      <td>S</td>\n",
              "      <td>Allen</td>\n",
              "    </tr>\n",
              "    <tr>\n",
              "      <th>...</th>\n",
              "      <td>...</td>\n",
              "      <td>...</td>\n",
              "      <td>...</td>\n",
              "      <td>...</td>\n",
              "      <td>...</td>\n",
              "      <td>...</td>\n",
              "      <td>...</td>\n",
              "      <td>...</td>\n",
              "      <td>...</td>\n",
              "      <td>...</td>\n",
              "      <td>...</td>\n",
              "      <td>...</td>\n",
              "      <td>...</td>\n",
              "    </tr>\n",
              "    <tr>\n",
              "      <th>886</th>\n",
              "      <td>887</td>\n",
              "      <td>0</td>\n",
              "      <td>2</td>\n",
              "      <td>Montvila, Rev. Juozas</td>\n",
              "      <td>male</td>\n",
              "      <td>27.0</td>\n",
              "      <td>0</td>\n",
              "      <td>0</td>\n",
              "      <td>211536</td>\n",
              "      <td>13.0000</td>\n",
              "      <td>NaN</td>\n",
              "      <td>S</td>\n",
              "      <td>Montvila</td>\n",
              "    </tr>\n",
              "    <tr>\n",
              "      <th>887</th>\n",
              "      <td>888</td>\n",
              "      <td>1</td>\n",
              "      <td>1</td>\n",
              "      <td>Graham, Miss. Margaret Edith</td>\n",
              "      <td>female</td>\n",
              "      <td>19.0</td>\n",
              "      <td>0</td>\n",
              "      <td>0</td>\n",
              "      <td>112053</td>\n",
              "      <td>30.0000</td>\n",
              "      <td>B42</td>\n",
              "      <td>S</td>\n",
              "      <td>Graham</td>\n",
              "    </tr>\n",
              "    <tr>\n",
              "      <th>888</th>\n",
              "      <td>889</td>\n",
              "      <td>0</td>\n",
              "      <td>3</td>\n",
              "      <td>Johnston, Miss. Catherine Helen \"Carrie\"</td>\n",
              "      <td>female</td>\n",
              "      <td>NaN</td>\n",
              "      <td>1</td>\n",
              "      <td>2</td>\n",
              "      <td>W./C. 6607</td>\n",
              "      <td>23.4500</td>\n",
              "      <td>NaN</td>\n",
              "      <td>S</td>\n",
              "      <td>Johnston</td>\n",
              "    </tr>\n",
              "    <tr>\n",
              "      <th>889</th>\n",
              "      <td>890</td>\n",
              "      <td>1</td>\n",
              "      <td>1</td>\n",
              "      <td>Behr, Mr. Karl Howell</td>\n",
              "      <td>male</td>\n",
              "      <td>26.0</td>\n",
              "      <td>0</td>\n",
              "      <td>0</td>\n",
              "      <td>111369</td>\n",
              "      <td>30.0000</td>\n",
              "      <td>C148</td>\n",
              "      <td>C</td>\n",
              "      <td>Behr</td>\n",
              "    </tr>\n",
              "    <tr>\n",
              "      <th>890</th>\n",
              "      <td>891</td>\n",
              "      <td>0</td>\n",
              "      <td>3</td>\n",
              "      <td>Dooley, Mr. Patrick</td>\n",
              "      <td>male</td>\n",
              "      <td>32.0</td>\n",
              "      <td>0</td>\n",
              "      <td>0</td>\n",
              "      <td>370376</td>\n",
              "      <td>7.7500</td>\n",
              "      <td>NaN</td>\n",
              "      <td>Q</td>\n",
              "      <td>Dooley</td>\n",
              "    </tr>\n",
              "  </tbody>\n",
              "</table>\n",
              "<p>891 rows × 13 columns</p>\n",
              "</div>"
            ],
            "text/plain": [
              "     PassengerId  Survived  Pclass  ... Cabin Embarked  First_Name\n",
              "0              1         0       3  ...   NaN        S      Braund\n",
              "1              2         1       1  ...   C85        C     Cumings\n",
              "2              3         1       3  ...   NaN        S   Heikkinen\n",
              "3              4         1       1  ...  C123        S    Futrelle\n",
              "4              5         0       3  ...   NaN        S       Allen\n",
              "..           ...       ...     ...  ...   ...      ...         ...\n",
              "886          887         0       2  ...   NaN        S    Montvila\n",
              "887          888         1       1  ...   B42        S      Graham\n",
              "888          889         0       3  ...   NaN        S    Johnston\n",
              "889          890         1       1  ...  C148        C        Behr\n",
              "890          891         0       3  ...   NaN        Q      Dooley\n",
              "\n",
              "[891 rows x 13 columns]"
            ]
          },
          "metadata": {
            "tags": []
          },
          "execution_count": 25
        }
      ]
    },
    {
      "cell_type": "markdown",
      "metadata": {
        "id": "hOD8EPf2y4H0"
      },
      "source": [
        "##matplotlib"
      ]
    },
    {
      "cell_type": "code",
      "metadata": {
        "id": "RLhe9jXiy3dp"
      },
      "source": [
        "import matplotlib.pyplot as plt"
      ],
      "execution_count": null,
      "outputs": []
    },
    {
      "cell_type": "markdown",
      "metadata": {
        "id": "cPAqgBaRzmGR"
      },
      "source": [
        "**Hint**\r\n",
        "특정 조건의 행 개수 세기"
      ]
    },
    {
      "cell_type": "code",
      "metadata": {
        "id": "LUYbAQTyzA99"
      },
      "source": [
        "dead_cnt = titanic.loc[titanic['Survived'] == 0, 'PassengerId'].count()\r\n",
        "survived_cnt = titanic.loc[titanic['Survived'] == 1, 'PassengerId'].count()\r\n",
        "print(dead_cnt)\r\n",
        "print(survived_cnt)"
      ],
      "execution_count": null,
      "outputs": []
    },
    {
      "cell_type": "markdown",
      "metadata": {
        "id": "YRWIJwYt0cvz"
      },
      "source": [
        "**1. 타이타닉의 사망자, 생존자를 Bar Chart로 표현해보세요.**"
      ]
    },
    {
      "cell_type": "code",
      "metadata": {
        "id": "wmX80M5L0AzC",
        "colab": {
          "base_uri": "https://localhost:8080/",
          "height": 276
        },
        "outputId": "19961630-df90-4036-c8aa-7527fee1e063"
      },
      "source": [
        "titanic['Survived'].value_counts().plot(kind = 'bar')\r\n",
        "plt.xlabel('survived')\r\n",
        "plt.show()"
      ],
      "execution_count": null,
      "outputs": [
        {
          "output_type": "display_data",
          "data": {
            "image/png": "[encoded data removed]",
            "text/plain": [
              "<Figure size 432x288 with 1 Axes>"
            ]
          },
          "metadata": {
            "tags": [],
            "needs_background": "light"
          }
        }
      ]
    },
    {
      "cell_type": "markdown",
      "metadata": {
        "id": "S5qXWbAd0mUb"
      },
      "source": [
        "**2. Bar Chart에 나타나는 두 개의 Bar의 색을 다르게 바꿔보세요!**"
      ]
    },
    {
      "cell_type": "code",
      "metadata": {
        "id": "Xllmd1N70ljx",
        "colab": {
          "base_uri": "https://localhost:8080/",
          "height": 276
        },
        "outputId": "be14f419-2713-4227-cb67-d7a757e638c0"
      },
      "source": [
        "colors = ['r', 'b']\r\n",
        "titanic['Survived'].value_counts().plot(kind = 'bar', color = colors)\r\n",
        "plt.xlabel('survived')\r\n",
        "plt.show()"
      ],
      "execution_count": null,
      "outputs": [
        {
          "output_type": "display_data",
          "data": {
            "image/png": "[encoded data removed]",
            "text/plain": [
              "<Figure size 432x288 with 1 Axes>"
            ]
          },
          "metadata": {
            "tags": [],
            "needs_background": "light"
          }
        }
      ]
    },
    {
      "cell_type": "markdown",
      "metadata": {
        "id": "4Pl1KYJK1WA_"
      },
      "source": [
        "##seaborn(심화, 자율)"
      ]
    },
    {
      "cell_type": "markdown",
      "metadata": {
        "id": "vbKIY-sA1mFY"
      },
      "source": [
        "seaborn을 사용하면 matplotlib로 힘들게 그린 그래프를 더 쉽게 그릴 수 있습니다!"
      ]
    },
    {
      "cell_type": "code",
      "metadata": {
        "colab": {
          "base_uri": "https://localhost:8080/"
        },
        "id": "JaihKtxq0302",
        "outputId": "b2e2d070-bc90-4afa-888d-42bc2a6dad17"
      },
      "source": [
        "import seaborn as sns\r\n",
        "sns.set"
      ],
      "execution_count": null,
      "outputs": [
        {
          "output_type": "execute_result",
          "data": {
            "text/plain": [
              "<function seaborn.rcmod.set>"
            ]
          },
          "metadata": {
            "tags": []
          },
          "execution_count": 34
        }
      ]
    },
    {
      "cell_type": "code",
      "metadata": {
        "id": "zNts_7_V2O2X"
      },
      "source": [
        "titanic = pd.read_csv(\"/content/titanic.csv\")"
      ],
      "execution_count": null,
      "outputs": []
    },
    {
      "cell_type": "markdown",
      "metadata": {
        "id": "T4vRAEnd2FbA"
      },
      "source": [
        "**1. seaborn의 count plot 사용하기**"
      ]
    },
    {
      "cell_type": "code",
      "metadata": {
        "colab": {
          "base_uri": "https://localhost:8080/",
          "height": 400
        },
        "id": "VATHmoe11Vjk",
        "outputId": "f782ccd5-95cd-4929-b31a-662f1852c52a"
      },
      "source": [
        "sns.catplot(data=titanic, x='Survived', hue='Sex', kind='count')"
      ],
      "execution_count": null,
      "outputs": [
        {
          "output_type": "execute_result",
          "data": {
            "text/plain": [
              "<seaborn.axisgrid.FacetGrid at 0x7f491c479650>"
            ]
          },
          "metadata": {
            "tags": []
          },
          "execution_count": 22
        },
        {
          "output_type": "display_data",
          "data": {
            "image/png": "[encoded data removed]",
            "text/plain": [
              "<Figure size 437.975x360 with 1 Axes>"
            ]
          },
          "metadata": {
            "tags": []
          }
        }
      ]
    },
    {
      "cell_type": "code",
      "metadata": {
        "id": "bkGXAKUL2kv1",
        "colab": {
          "base_uri": "https://localhost:8080/",
          "height": 401
        },
        "outputId": "704b381c-33cd-4f1a-f1d3-afb851053836"
      },
      "source": [
        "# 위 그래프를 참고해 Pclass별로 나누어 생존자, 사망자 수 카운트\r\n",
        "sns.catplot(data=titanic, x='Survived', hue='Pclass', kind='count')"
      ],
      "execution_count": null,
      "outputs": [
        {
          "output_type": "execute_result",
          "data": {
            "text/plain": [
              "<seaborn.axisgrid.FacetGrid at 0x7feee21fc850>"
            ]
          },
          "metadata": {
            "tags": []
          },
          "execution_count": 36
        },
        {
          "output_type": "display_data",
          "data": {
            "image/png": "[encoded data removed]",
            "text/plain": [
              "<Figure size 402.375x360 with 1 Axes>"
            ]
          },
          "metadata": {
            "tags": [],
            "needs_background": "light"
          }
        }
      ]
    },
    {
      "cell_type": "code",
      "metadata": {
        "id": "F3bUPRCJ2zSZ",
        "colab": {
          "base_uri": "https://localhost:8080/",
          "height": 401
        },
        "outputId": "c57007c4-0dbe-4ce3-e05b-2333d6d3c689"
      },
      "source": [
        "# 위 그래프를 참고해 Embarked별로 나누어 생존자, 사망자 수 카운트\r\n",
        "sns.catplot(data=titanic, x='Survived', hue='Embarked', kind='count')"
      ],
      "execution_count": null,
      "outputs": [
        {
          "output_type": "execute_result",
          "data": {
            "text/plain": [
              "<seaborn.axisgrid.FacetGrid at 0x7feecaf7fd10>"
            ]
          },
          "metadata": {
            "tags": []
          },
          "execution_count": 37
        },
        {
          "output_type": "display_data",
          "data": {
            "image/png": "[encoded data removed]",
            "text/plain": [
              "<Figure size 418.25x360 with 1 Axes>"
            ]
          },
          "metadata": {
            "tags": [],
            "needs_background": "light"
          }
        }
      ]
    },
    {
      "cell_type": "code",
      "metadata": {
        "id": "fQxKCxvy26iR",
        "colab": {
          "base_uri": "https://localhost:8080/",
          "height": 1000
        },
        "outputId": "d4983aba-6d2f-4d1f-a547-8fdcde8b35a4"
      },
      "source": [
        "# 위 그래프를 참고해 Age별로 나누어 생존자, 사망자 수 카운트\r\n",
        "sns.catplot(data=titanic, x='Survived', hue='Age', kind='count')"
      ],
      "execution_count": null,
      "outputs": [
        {
          "output_type": "execute_result",
          "data": {
            "text/plain": [
              "<seaborn.axisgrid.FacetGrid at 0x7feee22338d0>"
            ]
          },
          "metadata": {
            "tags": []
          },
          "execution_count": 38
        },
        {
          "output_type": "display_data",
          "data": {
            "image/png": "[encoded data removed]",
            "text/plain": [
              "<Figure size 418.375x360 with 1 Axes>"
            ]
          },
          "metadata": {
            "tags": [],
            "needs_background": "light"
          }
        }
      ]
    }
  ]
}